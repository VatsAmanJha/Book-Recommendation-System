{
 "cells": [
  {
   "cell_type": "markdown",
   "metadata": {},
   "source": [
    "Types of Recommendation System:\n",
    "\n",
    "1. Popularity Based: e.g. IMDB Top 250 Movies list. Youtube Trending Section.\n",
    "2. Content Based: e.g. Movies Recommendation System.\n",
    "3. Collaborative Filtering Based: e.g. User Based Recommendation Book Recommendation System(Book Name, Review)\n",
    "4. Hybrid Based: Mixture of All of above for e.g. Youtube Recommendation System."
   ]
  },
  {
   "cell_type": "code",
   "execution_count": 191,
   "metadata": {},
   "outputs": [],
   "source": [
    "import numpy as np\n",
    "import pandas as pd"
   ]
  },
  {
   "cell_type": "code",
   "execution_count": 192,
   "metadata": {},
   "outputs": [
    {
     "name": "stderr",
     "output_type": "stream",
     "text": [
      "C:\\Users\\vatsa\\AppData\\Local\\Temp\\ipykernel_33896\\775865190.py:1: DtypeWarning: Columns (3) have mixed types. Specify dtype option on import or set low_memory=False.\n",
      "  books=pd.read_csv('Books.csv')\n"
     ]
    }
   ],
   "source": [
    "books=pd.read_csv('Books.csv')\n",
    "ratings=pd.read_csv('Ratings.csv')\n",
    "users=pd.read_csv('Users.csv')"
   ]
  },
  {
   "cell_type": "code",
   "execution_count": 193,
   "metadata": {},
   "outputs": [
    {
     "data": {
      "text/html": [
       "<div>\n",
       "<style scoped>\n",
       "    .dataframe tbody tr th:only-of-type {\n",
       "        vertical-align: middle;\n",
       "    }\n",
       "\n",
       "    .dataframe tbody tr th {\n",
       "        vertical-align: top;\n",
       "    }\n",
       "\n",
       "    .dataframe thead th {\n",
       "        text-align: right;\n",
       "    }\n",
       "</style>\n",
       "<table border=\"1\" class=\"dataframe\">\n",
       "  <thead>\n",
       "    <tr style=\"text-align: right;\">\n",
       "      <th></th>\n",
       "      <th>ISBN</th>\n",
       "      <th>Book-Title</th>\n",
       "      <th>Book-Author</th>\n",
       "      <th>Year-Of-Publication</th>\n",
       "      <th>Publisher</th>\n",
       "      <th>Image-URL-S</th>\n",
       "      <th>Image-URL-M</th>\n",
       "      <th>Image-URL-L</th>\n",
       "    </tr>\n",
       "  </thead>\n",
       "  <tbody>\n",
       "    <tr>\n",
       "      <th>0</th>\n",
       "      <td>0195153448</td>\n",
       "      <td>Classical Mythology</td>\n",
       "      <td>Mark P. O. Morford</td>\n",
       "      <td>2002</td>\n",
       "      <td>Oxford University Press</td>\n",
       "      <td>http://images.amazon.com/images/P/0195153448.0...</td>\n",
       "      <td>http://images.amazon.com/images/P/0195153448.0...</td>\n",
       "      <td>http://images.amazon.com/images/P/0195153448.0...</td>\n",
       "    </tr>\n",
       "    <tr>\n",
       "      <th>1</th>\n",
       "      <td>0002005018</td>\n",
       "      <td>Clara Callan</td>\n",
       "      <td>Richard Bruce Wright</td>\n",
       "      <td>2001</td>\n",
       "      <td>HarperFlamingo Canada</td>\n",
       "      <td>http://images.amazon.com/images/P/0002005018.0...</td>\n",
       "      <td>http://images.amazon.com/images/P/0002005018.0...</td>\n",
       "      <td>http://images.amazon.com/images/P/0002005018.0...</td>\n",
       "    </tr>\n",
       "    <tr>\n",
       "      <th>2</th>\n",
       "      <td>0060973129</td>\n",
       "      <td>Decision in Normandy</td>\n",
       "      <td>Carlo D'Este</td>\n",
       "      <td>1991</td>\n",
       "      <td>HarperPerennial</td>\n",
       "      <td>http://images.amazon.com/images/P/0060973129.0...</td>\n",
       "      <td>http://images.amazon.com/images/P/0060973129.0...</td>\n",
       "      <td>http://images.amazon.com/images/P/0060973129.0...</td>\n",
       "    </tr>\n",
       "    <tr>\n",
       "      <th>3</th>\n",
       "      <td>0374157065</td>\n",
       "      <td>Flu: The Story of the Great Influenza Pandemic...</td>\n",
       "      <td>Gina Bari Kolata</td>\n",
       "      <td>1999</td>\n",
       "      <td>Farrar Straus Giroux</td>\n",
       "      <td>http://images.amazon.com/images/P/0374157065.0...</td>\n",
       "      <td>http://images.amazon.com/images/P/0374157065.0...</td>\n",
       "      <td>http://images.amazon.com/images/P/0374157065.0...</td>\n",
       "    </tr>\n",
       "    <tr>\n",
       "      <th>4</th>\n",
       "      <td>0393045218</td>\n",
       "      <td>The Mummies of Urumchi</td>\n",
       "      <td>E. J. W. Barber</td>\n",
       "      <td>1999</td>\n",
       "      <td>W. W. Norton &amp;amp; Company</td>\n",
       "      <td>http://images.amazon.com/images/P/0393045218.0...</td>\n",
       "      <td>http://images.amazon.com/images/P/0393045218.0...</td>\n",
       "      <td>http://images.amazon.com/images/P/0393045218.0...</td>\n",
       "    </tr>\n",
       "  </tbody>\n",
       "</table>\n",
       "</div>"
      ],
      "text/plain": [
       "         ISBN                                         Book-Title  \\\n",
       "0  0195153448                                Classical Mythology   \n",
       "1  0002005018                                       Clara Callan   \n",
       "2  0060973129                               Decision in Normandy   \n",
       "3  0374157065  Flu: The Story of the Great Influenza Pandemic...   \n",
       "4  0393045218                             The Mummies of Urumchi   \n",
       "\n",
       "            Book-Author Year-Of-Publication                   Publisher  \\\n",
       "0    Mark P. O. Morford                2002     Oxford University Press   \n",
       "1  Richard Bruce Wright                2001       HarperFlamingo Canada   \n",
       "2          Carlo D'Este                1991             HarperPerennial   \n",
       "3      Gina Bari Kolata                1999        Farrar Straus Giroux   \n",
       "4       E. J. W. Barber                1999  W. W. Norton &amp; Company   \n",
       "\n",
       "                                         Image-URL-S  \\\n",
       "0  http://images.amazon.com/images/P/0195153448.0...   \n",
       "1  http://images.amazon.com/images/P/0002005018.0...   \n",
       "2  http://images.amazon.com/images/P/0060973129.0...   \n",
       "3  http://images.amazon.com/images/P/0374157065.0...   \n",
       "4  http://images.amazon.com/images/P/0393045218.0...   \n",
       "\n",
       "                                         Image-URL-M  \\\n",
       "0  http://images.amazon.com/images/P/0195153448.0...   \n",
       "1  http://images.amazon.com/images/P/0002005018.0...   \n",
       "2  http://images.amazon.com/images/P/0060973129.0...   \n",
       "3  http://images.amazon.com/images/P/0374157065.0...   \n",
       "4  http://images.amazon.com/images/P/0393045218.0...   \n",
       "\n",
       "                                         Image-URL-L  \n",
       "0  http://images.amazon.com/images/P/0195153448.0...  \n",
       "1  http://images.amazon.com/images/P/0002005018.0...  \n",
       "2  http://images.amazon.com/images/P/0060973129.0...  \n",
       "3  http://images.amazon.com/images/P/0374157065.0...  \n",
       "4  http://images.amazon.com/images/P/0393045218.0...  "
      ]
     },
     "execution_count": 193,
     "metadata": {},
     "output_type": "execute_result"
    }
   ],
   "source": [
    "books.head()"
   ]
  },
  {
   "cell_type": "code",
   "execution_count": 194,
   "metadata": {},
   "outputs": [
    {
     "data": {
      "text/html": [
       "<div>\n",
       "<style scoped>\n",
       "    .dataframe tbody tr th:only-of-type {\n",
       "        vertical-align: middle;\n",
       "    }\n",
       "\n",
       "    .dataframe tbody tr th {\n",
       "        vertical-align: top;\n",
       "    }\n",
       "\n",
       "    .dataframe thead th {\n",
       "        text-align: right;\n",
       "    }\n",
       "</style>\n",
       "<table border=\"1\" class=\"dataframe\">\n",
       "  <thead>\n",
       "    <tr style=\"text-align: right;\">\n",
       "      <th></th>\n",
       "      <th>User-ID</th>\n",
       "      <th>Location</th>\n",
       "      <th>Age</th>\n",
       "    </tr>\n",
       "  </thead>\n",
       "  <tbody>\n",
       "    <tr>\n",
       "      <th>0</th>\n",
       "      <td>1</td>\n",
       "      <td>nyc, new york, usa</td>\n",
       "      <td>NaN</td>\n",
       "    </tr>\n",
       "    <tr>\n",
       "      <th>1</th>\n",
       "      <td>2</td>\n",
       "      <td>stockton, california, usa</td>\n",
       "      <td>18.0</td>\n",
       "    </tr>\n",
       "    <tr>\n",
       "      <th>2</th>\n",
       "      <td>3</td>\n",
       "      <td>moscow, yukon territory, russia</td>\n",
       "      <td>NaN</td>\n",
       "    </tr>\n",
       "    <tr>\n",
       "      <th>3</th>\n",
       "      <td>4</td>\n",
       "      <td>porto, v.n.gaia, portugal</td>\n",
       "      <td>17.0</td>\n",
       "    </tr>\n",
       "    <tr>\n",
       "      <th>4</th>\n",
       "      <td>5</td>\n",
       "      <td>farnborough, hants, united kingdom</td>\n",
       "      <td>NaN</td>\n",
       "    </tr>\n",
       "  </tbody>\n",
       "</table>\n",
       "</div>"
      ],
      "text/plain": [
       "   User-ID                            Location   Age\n",
       "0        1                  nyc, new york, usa   NaN\n",
       "1        2           stockton, california, usa  18.0\n",
       "2        3     moscow, yukon territory, russia   NaN\n",
       "3        4           porto, v.n.gaia, portugal  17.0\n",
       "4        5  farnborough, hants, united kingdom   NaN"
      ]
     },
     "execution_count": 194,
     "metadata": {},
     "output_type": "execute_result"
    }
   ],
   "source": [
    "users.head()"
   ]
  },
  {
   "cell_type": "code",
   "execution_count": 195,
   "metadata": {},
   "outputs": [
    {
     "data": {
      "text/html": [
       "<div>\n",
       "<style scoped>\n",
       "    .dataframe tbody tr th:only-of-type {\n",
       "        vertical-align: middle;\n",
       "    }\n",
       "\n",
       "    .dataframe tbody tr th {\n",
       "        vertical-align: top;\n",
       "    }\n",
       "\n",
       "    .dataframe thead th {\n",
       "        text-align: right;\n",
       "    }\n",
       "</style>\n",
       "<table border=\"1\" class=\"dataframe\">\n",
       "  <thead>\n",
       "    <tr style=\"text-align: right;\">\n",
       "      <th></th>\n",
       "      <th>User-ID</th>\n",
       "      <th>ISBN</th>\n",
       "      <th>Book-Rating</th>\n",
       "    </tr>\n",
       "  </thead>\n",
       "  <tbody>\n",
       "    <tr>\n",
       "      <th>0</th>\n",
       "      <td>276725</td>\n",
       "      <td>034545104X</td>\n",
       "      <td>0</td>\n",
       "    </tr>\n",
       "    <tr>\n",
       "      <th>1</th>\n",
       "      <td>276726</td>\n",
       "      <td>0155061224</td>\n",
       "      <td>5</td>\n",
       "    </tr>\n",
       "    <tr>\n",
       "      <th>2</th>\n",
       "      <td>276727</td>\n",
       "      <td>0446520802</td>\n",
       "      <td>0</td>\n",
       "    </tr>\n",
       "    <tr>\n",
       "      <th>3</th>\n",
       "      <td>276729</td>\n",
       "      <td>052165615X</td>\n",
       "      <td>3</td>\n",
       "    </tr>\n",
       "    <tr>\n",
       "      <th>4</th>\n",
       "      <td>276729</td>\n",
       "      <td>0521795028</td>\n",
       "      <td>6</td>\n",
       "    </tr>\n",
       "  </tbody>\n",
       "</table>\n",
       "</div>"
      ],
      "text/plain": [
       "   User-ID        ISBN  Book-Rating\n",
       "0   276725  034545104X            0\n",
       "1   276726  0155061224            5\n",
       "2   276727  0446520802            0\n",
       "3   276729  052165615X            3\n",
       "4   276729  0521795028            6"
      ]
     },
     "execution_count": 195,
     "metadata": {},
     "output_type": "execute_result"
    }
   ],
   "source": [
    "ratings.head()"
   ]
  },
  {
   "cell_type": "code",
   "execution_count": 196,
   "metadata": {},
   "outputs": [
    {
     "name": "stdout",
     "output_type": "stream",
     "text": [
      "(271360, 8)\n",
      "(1149780, 3)\n",
      "(278858, 3)\n"
     ]
    }
   ],
   "source": [
    "print(books.shape)\n",
    "print(ratings.shape)\n",
    "print(users.shape)"
   ]
  },
  {
   "cell_type": "code",
   "execution_count": 197,
   "metadata": {},
   "outputs": [
    {
     "data": {
      "text/plain": [
       "ISBN                   0\n",
       "Book-Title             0\n",
       "Book-Author            2\n",
       "Year-Of-Publication    0\n",
       "Publisher              2\n",
       "Image-URL-S            0\n",
       "Image-URL-M            0\n",
       "Image-URL-L            3\n",
       "dtype: int64"
      ]
     },
     "execution_count": 197,
     "metadata": {},
     "output_type": "execute_result"
    }
   ],
   "source": [
    "books.isnull().sum()"
   ]
  },
  {
   "cell_type": "code",
   "execution_count": 198,
   "metadata": {},
   "outputs": [
    {
     "data": {
      "text/plain": [
       "User-ID          0\n",
       "Location         0\n",
       "Age         110762\n",
       "dtype: int64"
      ]
     },
     "execution_count": 198,
     "metadata": {},
     "output_type": "execute_result"
    }
   ],
   "source": [
    "users.isnull().sum()"
   ]
  },
  {
   "cell_type": "code",
   "execution_count": 199,
   "metadata": {},
   "outputs": [
    {
     "data": {
      "text/plain": [
       "User-ID        0\n",
       "ISBN           0\n",
       "Book-Rating    0\n",
       "dtype: int64"
      ]
     },
     "execution_count": 199,
     "metadata": {},
     "output_type": "execute_result"
    }
   ],
   "source": [
    "ratings.isnull().sum()"
   ]
  },
  {
   "cell_type": "code",
   "execution_count": 200,
   "metadata": {},
   "outputs": [
    {
     "data": {
      "text/plain": [
       "0"
      ]
     },
     "execution_count": 200,
     "metadata": {},
     "output_type": "execute_result"
    }
   ],
   "source": [
    "books.duplicated().sum()"
   ]
  },
  {
   "cell_type": "code",
   "execution_count": 201,
   "metadata": {},
   "outputs": [
    {
     "data": {
      "text/plain": [
       "0"
      ]
     },
     "execution_count": 201,
     "metadata": {},
     "output_type": "execute_result"
    }
   ],
   "source": [
    "ratings.duplicated().sum()"
   ]
  },
  {
   "cell_type": "code",
   "execution_count": 202,
   "metadata": {},
   "outputs": [
    {
     "data": {
      "text/plain": [
       "0"
      ]
     },
     "execution_count": 202,
     "metadata": {},
     "output_type": "execute_result"
    }
   ],
   "source": [
    "users.duplicated().sum()"
   ]
  },
  {
   "cell_type": "markdown",
   "metadata": {},
   "source": [
    "Popularity Based Recommender System"
   ]
  },
  {
   "cell_type": "code",
   "execution_count": 203,
   "metadata": {},
   "outputs": [],
   "source": [
    "ratings_with_name = ratings.merge(books,on='ISBN')"
   ]
  },
  {
   "cell_type": "code",
   "execution_count": 204,
   "metadata": {},
   "outputs": [
    {
     "data": {
      "text/html": [
       "<div>\n",
       "<style scoped>\n",
       "    .dataframe tbody tr th:only-of-type {\n",
       "        vertical-align: middle;\n",
       "    }\n",
       "\n",
       "    .dataframe tbody tr th {\n",
       "        vertical-align: top;\n",
       "    }\n",
       "\n",
       "    .dataframe thead th {\n",
       "        text-align: right;\n",
       "    }\n",
       "</style>\n",
       "<table border=\"1\" class=\"dataframe\">\n",
       "  <thead>\n",
       "    <tr style=\"text-align: right;\">\n",
       "      <th></th>\n",
       "      <th>Book-Title</th>\n",
       "      <th>num_ratings</th>\n",
       "    </tr>\n",
       "  </thead>\n",
       "  <tbody>\n",
       "    <tr>\n",
       "      <th>0</th>\n",
       "      <td>A Light in the Storm: The Civil War Diary of ...</td>\n",
       "      <td>4</td>\n",
       "    </tr>\n",
       "    <tr>\n",
       "      <th>1</th>\n",
       "      <td>Always Have Popsicles</td>\n",
       "      <td>1</td>\n",
       "    </tr>\n",
       "    <tr>\n",
       "      <th>2</th>\n",
       "      <td>Apple Magic (The Collector's series)</td>\n",
       "      <td>1</td>\n",
       "    </tr>\n",
       "    <tr>\n",
       "      <th>3</th>\n",
       "      <td>Ask Lily (Young Women of Faith: Lily Series, ...</td>\n",
       "      <td>1</td>\n",
       "    </tr>\n",
       "    <tr>\n",
       "      <th>4</th>\n",
       "      <td>Beyond IBM: Leadership Marketing and Finance ...</td>\n",
       "      <td>1</td>\n",
       "    </tr>\n",
       "  </tbody>\n",
       "</table>\n",
       "</div>"
      ],
      "text/plain": [
       "                                          Book-Title  num_ratings\n",
       "0   A Light in the Storm: The Civil War Diary of ...            4\n",
       "1                              Always Have Popsicles            1\n",
       "2               Apple Magic (The Collector's series)            1\n",
       "3   Ask Lily (Young Women of Faith: Lily Series, ...            1\n",
       "4   Beyond IBM: Leadership Marketing and Finance ...            1"
      ]
     },
     "execution_count": 204,
     "metadata": {},
     "output_type": "execute_result"
    }
   ],
   "source": [
    "num_rating_df=ratings_with_name.groupby('Book-Title').count()['Book-Rating'].reset_index()\n",
    "num_rating_df.rename(columns={'Book-Rating':'num_ratings'},inplace=True)\n",
    "num_rating_df.head()"
   ]
  },
  {
   "cell_type": "code",
   "execution_count": 205,
   "metadata": {},
   "outputs": [
    {
     "data": {
      "text/html": [
       "<div>\n",
       "<style scoped>\n",
       "    .dataframe tbody tr th:only-of-type {\n",
       "        vertical-align: middle;\n",
       "    }\n",
       "\n",
       "    .dataframe tbody tr th {\n",
       "        vertical-align: top;\n",
       "    }\n",
       "\n",
       "    .dataframe thead th {\n",
       "        text-align: right;\n",
       "    }\n",
       "</style>\n",
       "<table border=\"1\" class=\"dataframe\">\n",
       "  <thead>\n",
       "    <tr style=\"text-align: right;\">\n",
       "      <th></th>\n",
       "      <th>Book-Title</th>\n",
       "      <th>avg_rating</th>\n",
       "    </tr>\n",
       "  </thead>\n",
       "  <tbody>\n",
       "    <tr>\n",
       "      <th>0</th>\n",
       "      <td>A Light in the Storm: The Civil War Diary of ...</td>\n",
       "      <td>2.25</td>\n",
       "    </tr>\n",
       "    <tr>\n",
       "      <th>1</th>\n",
       "      <td>Always Have Popsicles</td>\n",
       "      <td>0.00</td>\n",
       "    </tr>\n",
       "    <tr>\n",
       "      <th>2</th>\n",
       "      <td>Apple Magic (The Collector's series)</td>\n",
       "      <td>0.00</td>\n",
       "    </tr>\n",
       "    <tr>\n",
       "      <th>3</th>\n",
       "      <td>Ask Lily (Young Women of Faith: Lily Series, ...</td>\n",
       "      <td>8.00</td>\n",
       "    </tr>\n",
       "    <tr>\n",
       "      <th>4</th>\n",
       "      <td>Beyond IBM: Leadership Marketing and Finance ...</td>\n",
       "      <td>0.00</td>\n",
       "    </tr>\n",
       "  </tbody>\n",
       "</table>\n",
       "</div>"
      ],
      "text/plain": [
       "                                          Book-Title  avg_rating\n",
       "0   A Light in the Storm: The Civil War Diary of ...        2.25\n",
       "1                              Always Have Popsicles        0.00\n",
       "2               Apple Magic (The Collector's series)        0.00\n",
       "3   Ask Lily (Young Women of Faith: Lily Series, ...        8.00\n",
       "4   Beyond IBM: Leadership Marketing and Finance ...        0.00"
      ]
     },
     "execution_count": 205,
     "metadata": {},
     "output_type": "execute_result"
    }
   ],
   "source": [
    "avg_rating_df=ratings_with_name.groupby('Book-Title')['Book-Rating'].mean().reset_index()\n",
    "avg_rating_df.rename(columns={'Book-Rating':'avg_rating'},inplace=True)\n",
    "avg_rating_df.head()"
   ]
  },
  {
   "cell_type": "code",
   "execution_count": 206,
   "metadata": {},
   "outputs": [
    {
     "data": {
      "text/html": [
       "<div>\n",
       "<style scoped>\n",
       "    .dataframe tbody tr th:only-of-type {\n",
       "        vertical-align: middle;\n",
       "    }\n",
       "\n",
       "    .dataframe tbody tr th {\n",
       "        vertical-align: top;\n",
       "    }\n",
       "\n",
       "    .dataframe thead th {\n",
       "        text-align: right;\n",
       "    }\n",
       "</style>\n",
       "<table border=\"1\" class=\"dataframe\">\n",
       "  <thead>\n",
       "    <tr style=\"text-align: right;\">\n",
       "      <th></th>\n",
       "      <th>Book-Title</th>\n",
       "      <th>num_ratings</th>\n",
       "      <th>avg_rating</th>\n",
       "    </tr>\n",
       "  </thead>\n",
       "  <tbody>\n",
       "    <tr>\n",
       "      <th>0</th>\n",
       "      <td>A Light in the Storm: The Civil War Diary of ...</td>\n",
       "      <td>4</td>\n",
       "      <td>2.25</td>\n",
       "    </tr>\n",
       "    <tr>\n",
       "      <th>1</th>\n",
       "      <td>Always Have Popsicles</td>\n",
       "      <td>1</td>\n",
       "      <td>0.00</td>\n",
       "    </tr>\n",
       "    <tr>\n",
       "      <th>2</th>\n",
       "      <td>Apple Magic (The Collector's series)</td>\n",
       "      <td>1</td>\n",
       "      <td>0.00</td>\n",
       "    </tr>\n",
       "    <tr>\n",
       "      <th>3</th>\n",
       "      <td>Ask Lily (Young Women of Faith: Lily Series, ...</td>\n",
       "      <td>1</td>\n",
       "      <td>8.00</td>\n",
       "    </tr>\n",
       "    <tr>\n",
       "      <th>4</th>\n",
       "      <td>Beyond IBM: Leadership Marketing and Finance ...</td>\n",
       "      <td>1</td>\n",
       "      <td>0.00</td>\n",
       "    </tr>\n",
       "  </tbody>\n",
       "</table>\n",
       "</div>"
      ],
      "text/plain": [
       "                                          Book-Title  num_ratings  avg_rating\n",
       "0   A Light in the Storm: The Civil War Diary of ...            4        2.25\n",
       "1                              Always Have Popsicles            1        0.00\n",
       "2               Apple Magic (The Collector's series)            1        0.00\n",
       "3   Ask Lily (Young Women of Faith: Lily Series, ...            1        8.00\n",
       "4   Beyond IBM: Leadership Marketing and Finance ...            1        0.00"
      ]
     },
     "execution_count": 206,
     "metadata": {},
     "output_type": "execute_result"
    }
   ],
   "source": [
    "popular_df = num_rating_df.merge(avg_rating_df,on='Book-Title')\n",
    "popular_df.head()"
   ]
  },
  {
   "cell_type": "code",
   "execution_count": 207,
   "metadata": {},
   "outputs": [],
   "source": [
    "popular_df = popular_df[popular_df['num_ratings']>=250].sort_values('avg_rating',ascending=False).head(50)"
   ]
  },
  {
   "cell_type": "code",
   "execution_count": 208,
   "metadata": {},
   "outputs": [
    {
     "data": {
      "text/html": [
       "<div>\n",
       "<style scoped>\n",
       "    .dataframe tbody tr th:only-of-type {\n",
       "        vertical-align: middle;\n",
       "    }\n",
       "\n",
       "    .dataframe tbody tr th {\n",
       "        vertical-align: top;\n",
       "    }\n",
       "\n",
       "    .dataframe thead th {\n",
       "        text-align: right;\n",
       "    }\n",
       "</style>\n",
       "<table border=\"1\" class=\"dataframe\">\n",
       "  <thead>\n",
       "    <tr style=\"text-align: right;\">\n",
       "      <th></th>\n",
       "      <th>Book-Title</th>\n",
       "      <th>num_ratings</th>\n",
       "      <th>avg_rating</th>\n",
       "    </tr>\n",
       "  </thead>\n",
       "  <tbody>\n",
       "    <tr>\n",
       "      <th>80434</th>\n",
       "      <td>Harry Potter and the Prisoner of Azkaban (Book 3)</td>\n",
       "      <td>428</td>\n",
       "      <td>5.852804</td>\n",
       "    </tr>\n",
       "    <tr>\n",
       "      <th>80422</th>\n",
       "      <td>Harry Potter and the Goblet of Fire (Book 4)</td>\n",
       "      <td>387</td>\n",
       "      <td>5.824289</td>\n",
       "    </tr>\n",
       "    <tr>\n",
       "      <th>80441</th>\n",
       "      <td>Harry Potter and the Sorcerer's Stone (Book 1)</td>\n",
       "      <td>278</td>\n",
       "      <td>5.737410</td>\n",
       "    </tr>\n",
       "    <tr>\n",
       "      <th>80426</th>\n",
       "      <td>Harry Potter and the Order of the Phoenix (Boo...</td>\n",
       "      <td>347</td>\n",
       "      <td>5.501441</td>\n",
       "    </tr>\n",
       "    <tr>\n",
       "      <th>80414</th>\n",
       "      <td>Harry Potter and the Chamber of Secrets (Book 2)</td>\n",
       "      <td>556</td>\n",
       "      <td>5.183453</td>\n",
       "    </tr>\n",
       "  </tbody>\n",
       "</table>\n",
       "</div>"
      ],
      "text/plain": [
       "                                              Book-Title  num_ratings  \\\n",
       "80434  Harry Potter and the Prisoner of Azkaban (Book 3)          428   \n",
       "80422       Harry Potter and the Goblet of Fire (Book 4)          387   \n",
       "80441     Harry Potter and the Sorcerer's Stone (Book 1)          278   \n",
       "80426  Harry Potter and the Order of the Phoenix (Boo...          347   \n",
       "80414   Harry Potter and the Chamber of Secrets (Book 2)          556   \n",
       "\n",
       "       avg_rating  \n",
       "80434    5.852804  \n",
       "80422    5.824289  \n",
       "80441    5.737410  \n",
       "80426    5.501441  \n",
       "80414    5.183453  "
      ]
     },
     "execution_count": 208,
     "metadata": {},
     "output_type": "execute_result"
    }
   ],
   "source": [
    "popular_df.head()"
   ]
  },
  {
   "cell_type": "code",
   "execution_count": 209,
   "metadata": {},
   "outputs": [],
   "source": [
    "popular_df=popular_df.merge(books,on='Book-Title')"
   ]
  },
  {
   "cell_type": "code",
   "execution_count": 210,
   "metadata": {},
   "outputs": [
    {
     "data": {
      "text/html": [
       "<div>\n",
       "<style scoped>\n",
       "    .dataframe tbody tr th:only-of-type {\n",
       "        vertical-align: middle;\n",
       "    }\n",
       "\n",
       "    .dataframe tbody tr th {\n",
       "        vertical-align: top;\n",
       "    }\n",
       "\n",
       "    .dataframe thead th {\n",
       "        text-align: right;\n",
       "    }\n",
       "</style>\n",
       "<table border=\"1\" class=\"dataframe\">\n",
       "  <thead>\n",
       "    <tr style=\"text-align: right;\">\n",
       "      <th></th>\n",
       "      <th>Book-Title</th>\n",
       "      <th>num_ratings</th>\n",
       "      <th>avg_rating</th>\n",
       "      <th>ISBN</th>\n",
       "      <th>Book-Author</th>\n",
       "      <th>Year-Of-Publication</th>\n",
       "      <th>Publisher</th>\n",
       "      <th>Image-URL-S</th>\n",
       "      <th>Image-URL-M</th>\n",
       "      <th>Image-URL-L</th>\n",
       "    </tr>\n",
       "  </thead>\n",
       "  <tbody>\n",
       "    <tr>\n",
       "      <th>0</th>\n",
       "      <td>Harry Potter and the Prisoner of Azkaban (Book 3)</td>\n",
       "      <td>428</td>\n",
       "      <td>5.852804</td>\n",
       "      <td>0439136350</td>\n",
       "      <td>J. K. Rowling</td>\n",
       "      <td>1999</td>\n",
       "      <td>Scholastic</td>\n",
       "      <td>http://images.amazon.com/images/P/0439136350.0...</td>\n",
       "      <td>http://images.amazon.com/images/P/0439136350.0...</td>\n",
       "      <td>http://images.amazon.com/images/P/0439136350.0...</td>\n",
       "    </tr>\n",
       "  </tbody>\n",
       "</table>\n",
       "</div>"
      ],
      "text/plain": [
       "                                          Book-Title  num_ratings  avg_rating  \\\n",
       "0  Harry Potter and the Prisoner of Azkaban (Book 3)          428    5.852804   \n",
       "\n",
       "         ISBN    Book-Author Year-Of-Publication   Publisher  \\\n",
       "0  0439136350  J. K. Rowling                1999  Scholastic   \n",
       "\n",
       "                                         Image-URL-S  \\\n",
       "0  http://images.amazon.com/images/P/0439136350.0...   \n",
       "\n",
       "                                         Image-URL-M  \\\n",
       "0  http://images.amazon.com/images/P/0439136350.0...   \n",
       "\n",
       "                                         Image-URL-L  \n",
       "0  http://images.amazon.com/images/P/0439136350.0...  "
      ]
     },
     "execution_count": 210,
     "metadata": {},
     "output_type": "execute_result"
    }
   ],
   "source": [
    "popular_df.head(1)"
   ]
  },
  {
   "cell_type": "code",
   "execution_count": 211,
   "metadata": {},
   "outputs": [
    {
     "data": {
      "text/plain": [
       "(196, 10)"
      ]
     },
     "execution_count": 211,
     "metadata": {},
     "output_type": "execute_result"
    }
   ],
   "source": [
    "popular_df.shape"
   ]
  },
  {
   "cell_type": "code",
   "execution_count": 212,
   "metadata": {},
   "outputs": [
    {
     "data": {
      "text/plain": [
       "146"
      ]
     },
     "execution_count": 212,
     "metadata": {},
     "output_type": "execute_result"
    }
   ],
   "source": [
    "popular_df.duplicated('Book-Title').sum()"
   ]
  },
  {
   "cell_type": "code",
   "execution_count": 213,
   "metadata": {},
   "outputs": [],
   "source": [
    "popular_df.drop_duplicates('Book-Title',inplace=True)"
   ]
  },
  {
   "cell_type": "code",
   "execution_count": 214,
   "metadata": {},
   "outputs": [
    {
     "data": {
      "text/plain": [
       "(50, 10)"
      ]
     },
     "execution_count": 214,
     "metadata": {},
     "output_type": "execute_result"
    }
   ],
   "source": [
    "popular_df.shape"
   ]
  },
  {
   "cell_type": "code",
   "execution_count": 215,
   "metadata": {},
   "outputs": [
    {
     "data": {
      "text/plain": [
       "Index(['Book-Title', 'num_ratings', 'avg_rating', 'ISBN', 'Book-Author',\n",
       "       'Year-Of-Publication', 'Publisher', 'Image-URL-S', 'Image-URL-M',\n",
       "       'Image-URL-L'],\n",
       "      dtype='object')"
      ]
     },
     "execution_count": 215,
     "metadata": {},
     "output_type": "execute_result"
    }
   ],
   "source": [
    "popular_df.columns"
   ]
  },
  {
   "cell_type": "code",
   "execution_count": 216,
   "metadata": {},
   "outputs": [],
   "source": [
    "popular_df=popular_df[['Book-Title','Book-Author','Image-URL-M']]"
   ]
  },
  {
   "cell_type": "code",
   "execution_count": 217,
   "metadata": {},
   "outputs": [
    {
     "data": {
      "text/html": [
       "<div>\n",
       "<style scoped>\n",
       "    .dataframe tbody tr th:only-of-type {\n",
       "        vertical-align: middle;\n",
       "    }\n",
       "\n",
       "    .dataframe tbody tr th {\n",
       "        vertical-align: top;\n",
       "    }\n",
       "\n",
       "    .dataframe thead th {\n",
       "        text-align: right;\n",
       "    }\n",
       "</style>\n",
       "<table border=\"1\" class=\"dataframe\">\n",
       "  <thead>\n",
       "    <tr style=\"text-align: right;\">\n",
       "      <th></th>\n",
       "      <th>Book-Title</th>\n",
       "      <th>Book-Author</th>\n",
       "      <th>Image-URL-M</th>\n",
       "    </tr>\n",
       "  </thead>\n",
       "  <tbody>\n",
       "    <tr>\n",
       "      <th>0</th>\n",
       "      <td>Harry Potter and the Prisoner of Azkaban (Book 3)</td>\n",
       "      <td>J. K. Rowling</td>\n",
       "      <td>http://images.amazon.com/images/P/0439136350.0...</td>\n",
       "    </tr>\n",
       "  </tbody>\n",
       "</table>\n",
       "</div>"
      ],
      "text/plain": [
       "                                          Book-Title    Book-Author  \\\n",
       "0  Harry Potter and the Prisoner of Azkaban (Book 3)  J. K. Rowling   \n",
       "\n",
       "                                         Image-URL-M  \n",
       "0  http://images.amazon.com/images/P/0439136350.0...  "
      ]
     },
     "execution_count": 217,
     "metadata": {},
     "output_type": "execute_result"
    }
   ],
   "source": [
    "popular_df.head(1)"
   ]
  },
  {
   "cell_type": "markdown",
   "metadata": {},
   "source": [
    "Collaborative Filtering Based Recommender System"
   ]
  },
  {
   "cell_type": "code",
   "execution_count": 218,
   "metadata": {},
   "outputs": [],
   "source": [
    "x = ratings_with_name.groupby('User-ID').count()['Book-Rating'] > 200\n",
    "users_rating_more_than_200 = x[x].index"
   ]
  },
  {
   "cell_type": "code",
   "execution_count": 219,
   "metadata": {},
   "outputs": [],
   "source": [
    "filtered_rating = ratings_with_name[ratings_with_name['User-ID'].isin(users_rating_more_than_200 )]"
   ]
  },
  {
   "cell_type": "code",
   "execution_count": 220,
   "metadata": {},
   "outputs": [],
   "source": [
    "y = filtered_rating.groupby('Book-Title').count()['Book-Rating']>=50\n",
    "book_rating_more_than_49 = y[y].index"
   ]
  },
  {
   "cell_type": "code",
   "execution_count": 221,
   "metadata": {},
   "outputs": [],
   "source": [
    "final_ratings = filtered_rating[filtered_rating['Book-Title'].isin(book_rating_more_than_49)]"
   ]
  },
  {
   "cell_type": "code",
   "execution_count": 222,
   "metadata": {},
   "outputs": [
    {
     "data": {
      "text/html": [
       "<div>\n",
       "<style scoped>\n",
       "    .dataframe tbody tr th:only-of-type {\n",
       "        vertical-align: middle;\n",
       "    }\n",
       "\n",
       "    .dataframe tbody tr th {\n",
       "        vertical-align: top;\n",
       "    }\n",
       "\n",
       "    .dataframe thead th {\n",
       "        text-align: right;\n",
       "    }\n",
       "</style>\n",
       "<table border=\"1\" class=\"dataframe\">\n",
       "  <thead>\n",
       "    <tr style=\"text-align: right;\">\n",
       "      <th></th>\n",
       "      <th>User-ID</th>\n",
       "      <th>ISBN</th>\n",
       "      <th>Book-Rating</th>\n",
       "      <th>Book-Title</th>\n",
       "      <th>Book-Author</th>\n",
       "      <th>Year-Of-Publication</th>\n",
       "      <th>Publisher</th>\n",
       "      <th>Image-URL-S</th>\n",
       "      <th>Image-URL-M</th>\n",
       "      <th>Image-URL-L</th>\n",
       "    </tr>\n",
       "  </thead>\n",
       "  <tbody>\n",
       "    <tr>\n",
       "      <th>63</th>\n",
       "      <td>278418</td>\n",
       "      <td>0446520802</td>\n",
       "      <td>0</td>\n",
       "      <td>The Notebook</td>\n",
       "      <td>Nicholas Sparks</td>\n",
       "      <td>1996</td>\n",
       "      <td>Warner Books</td>\n",
       "      <td>http://images.amazon.com/images/P/0446520802.0...</td>\n",
       "      <td>http://images.amazon.com/images/P/0446520802.0...</td>\n",
       "      <td>http://images.amazon.com/images/P/0446520802.0...</td>\n",
       "    </tr>\n",
       "    <tr>\n",
       "      <th>65</th>\n",
       "      <td>3363</td>\n",
       "      <td>0446520802</td>\n",
       "      <td>0</td>\n",
       "      <td>The Notebook</td>\n",
       "      <td>Nicholas Sparks</td>\n",
       "      <td>1996</td>\n",
       "      <td>Warner Books</td>\n",
       "      <td>http://images.amazon.com/images/P/0446520802.0...</td>\n",
       "      <td>http://images.amazon.com/images/P/0446520802.0...</td>\n",
       "      <td>http://images.amazon.com/images/P/0446520802.0...</td>\n",
       "    </tr>\n",
       "    <tr>\n",
       "      <th>66</th>\n",
       "      <td>7158</td>\n",
       "      <td>0446520802</td>\n",
       "      <td>10</td>\n",
       "      <td>The Notebook</td>\n",
       "      <td>Nicholas Sparks</td>\n",
       "      <td>1996</td>\n",
       "      <td>Warner Books</td>\n",
       "      <td>http://images.amazon.com/images/P/0446520802.0...</td>\n",
       "      <td>http://images.amazon.com/images/P/0446520802.0...</td>\n",
       "      <td>http://images.amazon.com/images/P/0446520802.0...</td>\n",
       "    </tr>\n",
       "    <tr>\n",
       "      <th>69</th>\n",
       "      <td>11676</td>\n",
       "      <td>0446520802</td>\n",
       "      <td>10</td>\n",
       "      <td>The Notebook</td>\n",
       "      <td>Nicholas Sparks</td>\n",
       "      <td>1996</td>\n",
       "      <td>Warner Books</td>\n",
       "      <td>http://images.amazon.com/images/P/0446520802.0...</td>\n",
       "      <td>http://images.amazon.com/images/P/0446520802.0...</td>\n",
       "      <td>http://images.amazon.com/images/P/0446520802.0...</td>\n",
       "    </tr>\n",
       "    <tr>\n",
       "      <th>74</th>\n",
       "      <td>23768</td>\n",
       "      <td>0446520802</td>\n",
       "      <td>6</td>\n",
       "      <td>The Notebook</td>\n",
       "      <td>Nicholas Sparks</td>\n",
       "      <td>1996</td>\n",
       "      <td>Warner Books</td>\n",
       "      <td>http://images.amazon.com/images/P/0446520802.0...</td>\n",
       "      <td>http://images.amazon.com/images/P/0446520802.0...</td>\n",
       "      <td>http://images.amazon.com/images/P/0446520802.0...</td>\n",
       "    </tr>\n",
       "    <tr>\n",
       "      <th>...</th>\n",
       "      <td>...</td>\n",
       "      <td>...</td>\n",
       "      <td>...</td>\n",
       "      <td>...</td>\n",
       "      <td>...</td>\n",
       "      <td>...</td>\n",
       "      <td>...</td>\n",
       "      <td>...</td>\n",
       "      <td>...</td>\n",
       "      <td>...</td>\n",
       "    </tr>\n",
       "    <tr>\n",
       "      <th>1026724</th>\n",
       "      <td>266865</td>\n",
       "      <td>0531001725</td>\n",
       "      <td>10</td>\n",
       "      <td>The Catcher in the Rye</td>\n",
       "      <td>Jerome David Salinger</td>\n",
       "      <td>1973</td>\n",
       "      <td>Scholastic Library Pub</td>\n",
       "      <td>http://images.amazon.com/images/P/0531001725.0...</td>\n",
       "      <td>http://images.amazon.com/images/P/0531001725.0...</td>\n",
       "      <td>http://images.amazon.com/images/P/0531001725.0...</td>\n",
       "    </tr>\n",
       "    <tr>\n",
       "      <th>1027923</th>\n",
       "      <td>269566</td>\n",
       "      <td>0670809381</td>\n",
       "      <td>0</td>\n",
       "      <td>Echoes</td>\n",
       "      <td>Maeve Binchy</td>\n",
       "      <td>1986</td>\n",
       "      <td>Penguin USA</td>\n",
       "      <td>http://images.amazon.com/images/P/0670809381.0...</td>\n",
       "      <td>http://images.amazon.com/images/P/0670809381.0...</td>\n",
       "      <td>http://images.amazon.com/images/P/0670809381.0...</td>\n",
       "    </tr>\n",
       "    <tr>\n",
       "      <th>1028777</th>\n",
       "      <td>271284</td>\n",
       "      <td>0440910927</td>\n",
       "      <td>0</td>\n",
       "      <td>The Rainmaker</td>\n",
       "      <td>John Grisham</td>\n",
       "      <td>1995</td>\n",
       "      <td>Island</td>\n",
       "      <td>http://images.amazon.com/images/P/0440910927.0...</td>\n",
       "      <td>http://images.amazon.com/images/P/0440910927.0...</td>\n",
       "      <td>http://images.amazon.com/images/P/0440910927.0...</td>\n",
       "    </tr>\n",
       "    <tr>\n",
       "      <th>1029070</th>\n",
       "      <td>271705</td>\n",
       "      <td>B0001PIOX4</td>\n",
       "      <td>0</td>\n",
       "      <td>Fahrenheit 451</td>\n",
       "      <td>Ray Bradbury</td>\n",
       "      <td>1993</td>\n",
       "      <td>Simon &amp;amp; Schuster</td>\n",
       "      <td>http://images.amazon.com/images/P/B0001PIOX4.0...</td>\n",
       "      <td>http://images.amazon.com/images/P/B0001PIOX4.0...</td>\n",
       "      <td>http://images.amazon.com/images/P/B0001PIOX4.0...</td>\n",
       "    </tr>\n",
       "    <tr>\n",
       "      <th>1030868</th>\n",
       "      <td>275970</td>\n",
       "      <td>1586210661</td>\n",
       "      <td>9</td>\n",
       "      <td>Me Talk Pretty One Day</td>\n",
       "      <td>David Sedaris</td>\n",
       "      <td>2001</td>\n",
       "      <td>Time Warner Audio Major</td>\n",
       "      <td>http://images.amazon.com/images/P/1586210661.0...</td>\n",
       "      <td>http://images.amazon.com/images/P/1586210661.0...</td>\n",
       "      <td>http://images.amazon.com/images/P/1586210661.0...</td>\n",
       "    </tr>\n",
       "  </tbody>\n",
       "</table>\n",
       "<p>58586 rows × 10 columns</p>\n",
       "</div>"
      ],
      "text/plain": [
       "         User-ID        ISBN  Book-Rating              Book-Title  \\\n",
       "63        278418  0446520802            0            The Notebook   \n",
       "65          3363  0446520802            0            The Notebook   \n",
       "66          7158  0446520802           10            The Notebook   \n",
       "69         11676  0446520802           10            The Notebook   \n",
       "74         23768  0446520802            6            The Notebook   \n",
       "...          ...         ...          ...                     ...   \n",
       "1026724   266865  0531001725           10  The Catcher in the Rye   \n",
       "1027923   269566  0670809381            0                  Echoes   \n",
       "1028777   271284  0440910927            0           The Rainmaker   \n",
       "1029070   271705  B0001PIOX4            0          Fahrenheit 451   \n",
       "1030868   275970  1586210661            9  Me Talk Pretty One Day   \n",
       "\n",
       "                   Book-Author Year-Of-Publication                Publisher  \\\n",
       "63             Nicholas Sparks                1996             Warner Books   \n",
       "65             Nicholas Sparks                1996             Warner Books   \n",
       "66             Nicholas Sparks                1996             Warner Books   \n",
       "69             Nicholas Sparks                1996             Warner Books   \n",
       "74             Nicholas Sparks                1996             Warner Books   \n",
       "...                        ...                 ...                      ...   \n",
       "1026724  Jerome David Salinger                1973   Scholastic Library Pub   \n",
       "1027923           Maeve Binchy                1986              Penguin USA   \n",
       "1028777           John Grisham                1995                   Island   \n",
       "1029070           Ray Bradbury                1993     Simon &amp; Schuster   \n",
       "1030868          David Sedaris                2001  Time Warner Audio Major   \n",
       "\n",
       "                                               Image-URL-S  \\\n",
       "63       http://images.amazon.com/images/P/0446520802.0...   \n",
       "65       http://images.amazon.com/images/P/0446520802.0...   \n",
       "66       http://images.amazon.com/images/P/0446520802.0...   \n",
       "69       http://images.amazon.com/images/P/0446520802.0...   \n",
       "74       http://images.amazon.com/images/P/0446520802.0...   \n",
       "...                                                    ...   \n",
       "1026724  http://images.amazon.com/images/P/0531001725.0...   \n",
       "1027923  http://images.amazon.com/images/P/0670809381.0...   \n",
       "1028777  http://images.amazon.com/images/P/0440910927.0...   \n",
       "1029070  http://images.amazon.com/images/P/B0001PIOX4.0...   \n",
       "1030868  http://images.amazon.com/images/P/1586210661.0...   \n",
       "\n",
       "                                               Image-URL-M  \\\n",
       "63       http://images.amazon.com/images/P/0446520802.0...   \n",
       "65       http://images.amazon.com/images/P/0446520802.0...   \n",
       "66       http://images.amazon.com/images/P/0446520802.0...   \n",
       "69       http://images.amazon.com/images/P/0446520802.0...   \n",
       "74       http://images.amazon.com/images/P/0446520802.0...   \n",
       "...                                                    ...   \n",
       "1026724  http://images.amazon.com/images/P/0531001725.0...   \n",
       "1027923  http://images.amazon.com/images/P/0670809381.0...   \n",
       "1028777  http://images.amazon.com/images/P/0440910927.0...   \n",
       "1029070  http://images.amazon.com/images/P/B0001PIOX4.0...   \n",
       "1030868  http://images.amazon.com/images/P/1586210661.0...   \n",
       "\n",
       "                                               Image-URL-L  \n",
       "63       http://images.amazon.com/images/P/0446520802.0...  \n",
       "65       http://images.amazon.com/images/P/0446520802.0...  \n",
       "66       http://images.amazon.com/images/P/0446520802.0...  \n",
       "69       http://images.amazon.com/images/P/0446520802.0...  \n",
       "74       http://images.amazon.com/images/P/0446520802.0...  \n",
       "...                                                    ...  \n",
       "1026724  http://images.amazon.com/images/P/0531001725.0...  \n",
       "1027923  http://images.amazon.com/images/P/0670809381.0...  \n",
       "1028777  http://images.amazon.com/images/P/0440910927.0...  \n",
       "1029070  http://images.amazon.com/images/P/B0001PIOX4.0...  \n",
       "1030868  http://images.amazon.com/images/P/1586210661.0...  \n",
       "\n",
       "[58586 rows x 10 columns]"
      ]
     },
     "execution_count": 222,
     "metadata": {},
     "output_type": "execute_result"
    }
   ],
   "source": [
    "final_ratings"
   ]
  },
  {
   "cell_type": "code",
   "execution_count": 223,
   "metadata": {},
   "outputs": [],
   "source": [
    "pt=final_ratings.pivot_table(index='Book-Title',columns='User-ID',values='Book-Rating')"
   ]
  },
  {
   "cell_type": "code",
   "execution_count": 224,
   "metadata": {},
   "outputs": [
    {
     "data": {
      "text/html": [
       "<div>\n",
       "<style scoped>\n",
       "    .dataframe tbody tr th:only-of-type {\n",
       "        vertical-align: middle;\n",
       "    }\n",
       "\n",
       "    .dataframe tbody tr th {\n",
       "        vertical-align: top;\n",
       "    }\n",
       "\n",
       "    .dataframe thead th {\n",
       "        text-align: right;\n",
       "    }\n",
       "</style>\n",
       "<table border=\"1\" class=\"dataframe\">\n",
       "  <thead>\n",
       "    <tr style=\"text-align: right;\">\n",
       "      <th>User-ID</th>\n",
       "      <th>254</th>\n",
       "      <th>2276</th>\n",
       "      <th>2766</th>\n",
       "      <th>2977</th>\n",
       "      <th>3363</th>\n",
       "      <th>4017</th>\n",
       "      <th>4385</th>\n",
       "      <th>6251</th>\n",
       "      <th>6323</th>\n",
       "      <th>6543</th>\n",
       "      <th>...</th>\n",
       "      <th>271705</th>\n",
       "      <th>273979</th>\n",
       "      <th>274004</th>\n",
       "      <th>274061</th>\n",
       "      <th>274301</th>\n",
       "      <th>274308</th>\n",
       "      <th>275970</th>\n",
       "      <th>277427</th>\n",
       "      <th>277639</th>\n",
       "      <th>278418</th>\n",
       "    </tr>\n",
       "    <tr>\n",
       "      <th>Book-Title</th>\n",
       "      <th></th>\n",
       "      <th></th>\n",
       "      <th></th>\n",
       "      <th></th>\n",
       "      <th></th>\n",
       "      <th></th>\n",
       "      <th></th>\n",
       "      <th></th>\n",
       "      <th></th>\n",
       "      <th></th>\n",
       "      <th></th>\n",
       "      <th></th>\n",
       "      <th></th>\n",
       "      <th></th>\n",
       "      <th></th>\n",
       "      <th></th>\n",
       "      <th></th>\n",
       "      <th></th>\n",
       "      <th></th>\n",
       "      <th></th>\n",
       "      <th></th>\n",
       "    </tr>\n",
       "  </thead>\n",
       "  <tbody>\n",
       "    <tr>\n",
       "      <th>1984</th>\n",
       "      <td>9.0</td>\n",
       "      <td>NaN</td>\n",
       "      <td>NaN</td>\n",
       "      <td>NaN</td>\n",
       "      <td>NaN</td>\n",
       "      <td>NaN</td>\n",
       "      <td>NaN</td>\n",
       "      <td>NaN</td>\n",
       "      <td>NaN</td>\n",
       "      <td>NaN</td>\n",
       "      <td>...</td>\n",
       "      <td>10.0</td>\n",
       "      <td>NaN</td>\n",
       "      <td>NaN</td>\n",
       "      <td>NaN</td>\n",
       "      <td>NaN</td>\n",
       "      <td>NaN</td>\n",
       "      <td>0.0</td>\n",
       "      <td>NaN</td>\n",
       "      <td>NaN</td>\n",
       "      <td>NaN</td>\n",
       "    </tr>\n",
       "    <tr>\n",
       "      <th>1st to Die: A Novel</th>\n",
       "      <td>NaN</td>\n",
       "      <td>NaN</td>\n",
       "      <td>NaN</td>\n",
       "      <td>NaN</td>\n",
       "      <td>NaN</td>\n",
       "      <td>NaN</td>\n",
       "      <td>NaN</td>\n",
       "      <td>NaN</td>\n",
       "      <td>NaN</td>\n",
       "      <td>9.0</td>\n",
       "      <td>...</td>\n",
       "      <td>NaN</td>\n",
       "      <td>NaN</td>\n",
       "      <td>NaN</td>\n",
       "      <td>NaN</td>\n",
       "      <td>NaN</td>\n",
       "      <td>NaN</td>\n",
       "      <td>NaN</td>\n",
       "      <td>NaN</td>\n",
       "      <td>NaN</td>\n",
       "      <td>NaN</td>\n",
       "    </tr>\n",
       "    <tr>\n",
       "      <th>2nd Chance</th>\n",
       "      <td>NaN</td>\n",
       "      <td>10.0</td>\n",
       "      <td>NaN</td>\n",
       "      <td>NaN</td>\n",
       "      <td>NaN</td>\n",
       "      <td>NaN</td>\n",
       "      <td>NaN</td>\n",
       "      <td>NaN</td>\n",
       "      <td>NaN</td>\n",
       "      <td>0.0</td>\n",
       "      <td>...</td>\n",
       "      <td>NaN</td>\n",
       "      <td>NaN</td>\n",
       "      <td>NaN</td>\n",
       "      <td>NaN</td>\n",
       "      <td>NaN</td>\n",
       "      <td>0.0</td>\n",
       "      <td>NaN</td>\n",
       "      <td>NaN</td>\n",
       "      <td>0.0</td>\n",
       "      <td>NaN</td>\n",
       "    </tr>\n",
       "    <tr>\n",
       "      <th>4 Blondes</th>\n",
       "      <td>NaN</td>\n",
       "      <td>NaN</td>\n",
       "      <td>NaN</td>\n",
       "      <td>NaN</td>\n",
       "      <td>NaN</td>\n",
       "      <td>NaN</td>\n",
       "      <td>NaN</td>\n",
       "      <td>0.0</td>\n",
       "      <td>NaN</td>\n",
       "      <td>NaN</td>\n",
       "      <td>...</td>\n",
       "      <td>NaN</td>\n",
       "      <td>NaN</td>\n",
       "      <td>NaN</td>\n",
       "      <td>NaN</td>\n",
       "      <td>NaN</td>\n",
       "      <td>NaN</td>\n",
       "      <td>NaN</td>\n",
       "      <td>NaN</td>\n",
       "      <td>NaN</td>\n",
       "      <td>NaN</td>\n",
       "    </tr>\n",
       "    <tr>\n",
       "      <th>A Bend in the Road</th>\n",
       "      <td>0.0</td>\n",
       "      <td>NaN</td>\n",
       "      <td>7.0</td>\n",
       "      <td>NaN</td>\n",
       "      <td>NaN</td>\n",
       "      <td>NaN</td>\n",
       "      <td>NaN</td>\n",
       "      <td>NaN</td>\n",
       "      <td>NaN</td>\n",
       "      <td>NaN</td>\n",
       "      <td>...</td>\n",
       "      <td>NaN</td>\n",
       "      <td>0.0</td>\n",
       "      <td>NaN</td>\n",
       "      <td>NaN</td>\n",
       "      <td>NaN</td>\n",
       "      <td>NaN</td>\n",
       "      <td>NaN</td>\n",
       "      <td>NaN</td>\n",
       "      <td>NaN</td>\n",
       "      <td>NaN</td>\n",
       "    </tr>\n",
       "  </tbody>\n",
       "</table>\n",
       "<p>5 rows × 810 columns</p>\n",
       "</div>"
      ],
      "text/plain": [
       "User-ID              254     2276    2766    2977    3363    4017    4385    \\\n",
       "Book-Title                                                                    \n",
       "1984                    9.0     NaN     NaN     NaN     NaN     NaN     NaN   \n",
       "1st to Die: A Novel     NaN     NaN     NaN     NaN     NaN     NaN     NaN   \n",
       "2nd Chance              NaN    10.0     NaN     NaN     NaN     NaN     NaN   \n",
       "4 Blondes               NaN     NaN     NaN     NaN     NaN     NaN     NaN   \n",
       "A Bend in the Road      0.0     NaN     7.0     NaN     NaN     NaN     NaN   \n",
       "\n",
       "User-ID              6251    6323    6543    ...  271705  273979  274004  \\\n",
       "Book-Title                                   ...                           \n",
       "1984                    NaN     NaN     NaN  ...    10.0     NaN     NaN   \n",
       "1st to Die: A Novel     NaN     NaN     9.0  ...     NaN     NaN     NaN   \n",
       "2nd Chance              NaN     NaN     0.0  ...     NaN     NaN     NaN   \n",
       "4 Blondes               0.0     NaN     NaN  ...     NaN     NaN     NaN   \n",
       "A Bend in the Road      NaN     NaN     NaN  ...     NaN     0.0     NaN   \n",
       "\n",
       "User-ID              274061  274301  274308  275970  277427  277639  278418  \n",
       "Book-Title                                                                   \n",
       "1984                    NaN     NaN     NaN     0.0     NaN     NaN     NaN  \n",
       "1st to Die: A Novel     NaN     NaN     NaN     NaN     NaN     NaN     NaN  \n",
       "2nd Chance              NaN     NaN     0.0     NaN     NaN     0.0     NaN  \n",
       "4 Blondes               NaN     NaN     NaN     NaN     NaN     NaN     NaN  \n",
       "A Bend in the Road      NaN     NaN     NaN     NaN     NaN     NaN     NaN  \n",
       "\n",
       "[5 rows x 810 columns]"
      ]
     },
     "execution_count": 224,
     "metadata": {},
     "output_type": "execute_result"
    }
   ],
   "source": [
    "pt.head()"
   ]
  },
  {
   "cell_type": "code",
   "execution_count": 225,
   "metadata": {},
   "outputs": [
    {
     "data": {
      "text/plain": [
       "User-ID\n",
       "254       648\n",
       "2276      676\n",
       "2766      660\n",
       "2977      687\n",
       "3363      624\n",
       "         ... \n",
       "274308    579\n",
       "275970    619\n",
       "277427    610\n",
       "277639    679\n",
       "278418    563\n",
       "Length: 810, dtype: int64"
      ]
     },
     "execution_count": 225,
     "metadata": {},
     "output_type": "execute_result"
    }
   ],
   "source": [
    "pt.isnull().sum()"
   ]
  },
  {
   "cell_type": "code",
   "execution_count": 226,
   "metadata": {},
   "outputs": [],
   "source": [
    "pt.fillna(0,inplace=True)"
   ]
  },
  {
   "cell_type": "code",
   "execution_count": 227,
   "metadata": {},
   "outputs": [
    {
     "data": {
      "text/html": [
       "<div>\n",
       "<style scoped>\n",
       "    .dataframe tbody tr th:only-of-type {\n",
       "        vertical-align: middle;\n",
       "    }\n",
       "\n",
       "    .dataframe tbody tr th {\n",
       "        vertical-align: top;\n",
       "    }\n",
       "\n",
       "    .dataframe thead th {\n",
       "        text-align: right;\n",
       "    }\n",
       "</style>\n",
       "<table border=\"1\" class=\"dataframe\">\n",
       "  <thead>\n",
       "    <tr style=\"text-align: right;\">\n",
       "      <th>User-ID</th>\n",
       "      <th>254</th>\n",
       "      <th>2276</th>\n",
       "      <th>2766</th>\n",
       "      <th>2977</th>\n",
       "      <th>3363</th>\n",
       "      <th>4017</th>\n",
       "      <th>4385</th>\n",
       "      <th>6251</th>\n",
       "      <th>6323</th>\n",
       "      <th>6543</th>\n",
       "      <th>...</th>\n",
       "      <th>271705</th>\n",
       "      <th>273979</th>\n",
       "      <th>274004</th>\n",
       "      <th>274061</th>\n",
       "      <th>274301</th>\n",
       "      <th>274308</th>\n",
       "      <th>275970</th>\n",
       "      <th>277427</th>\n",
       "      <th>277639</th>\n",
       "      <th>278418</th>\n",
       "    </tr>\n",
       "    <tr>\n",
       "      <th>Book-Title</th>\n",
       "      <th></th>\n",
       "      <th></th>\n",
       "      <th></th>\n",
       "      <th></th>\n",
       "      <th></th>\n",
       "      <th></th>\n",
       "      <th></th>\n",
       "      <th></th>\n",
       "      <th></th>\n",
       "      <th></th>\n",
       "      <th></th>\n",
       "      <th></th>\n",
       "      <th></th>\n",
       "      <th></th>\n",
       "      <th></th>\n",
       "      <th></th>\n",
       "      <th></th>\n",
       "      <th></th>\n",
       "      <th></th>\n",
       "      <th></th>\n",
       "      <th></th>\n",
       "    </tr>\n",
       "  </thead>\n",
       "  <tbody>\n",
       "    <tr>\n",
       "      <th>1984</th>\n",
       "      <td>9.0</td>\n",
       "      <td>0.0</td>\n",
       "      <td>0.0</td>\n",
       "      <td>0.0</td>\n",
       "      <td>0.0</td>\n",
       "      <td>0.0</td>\n",
       "      <td>0.0</td>\n",
       "      <td>0.0</td>\n",
       "      <td>0.0</td>\n",
       "      <td>0.0</td>\n",
       "      <td>...</td>\n",
       "      <td>10.0</td>\n",
       "      <td>0.0</td>\n",
       "      <td>0.0</td>\n",
       "      <td>0.0</td>\n",
       "      <td>0.0</td>\n",
       "      <td>0.0</td>\n",
       "      <td>0.0</td>\n",
       "      <td>0.0</td>\n",
       "      <td>0.0</td>\n",
       "      <td>0.0</td>\n",
       "    </tr>\n",
       "    <tr>\n",
       "      <th>1st to Die: A Novel</th>\n",
       "      <td>0.0</td>\n",
       "      <td>0.0</td>\n",
       "      <td>0.0</td>\n",
       "      <td>0.0</td>\n",
       "      <td>0.0</td>\n",
       "      <td>0.0</td>\n",
       "      <td>0.0</td>\n",
       "      <td>0.0</td>\n",
       "      <td>0.0</td>\n",
       "      <td>9.0</td>\n",
       "      <td>...</td>\n",
       "      <td>0.0</td>\n",
       "      <td>0.0</td>\n",
       "      <td>0.0</td>\n",
       "      <td>0.0</td>\n",
       "      <td>0.0</td>\n",
       "      <td>0.0</td>\n",
       "      <td>0.0</td>\n",
       "      <td>0.0</td>\n",
       "      <td>0.0</td>\n",
       "      <td>0.0</td>\n",
       "    </tr>\n",
       "    <tr>\n",
       "      <th>2nd Chance</th>\n",
       "      <td>0.0</td>\n",
       "      <td>10.0</td>\n",
       "      <td>0.0</td>\n",
       "      <td>0.0</td>\n",
       "      <td>0.0</td>\n",
       "      <td>0.0</td>\n",
       "      <td>0.0</td>\n",
       "      <td>0.0</td>\n",
       "      <td>0.0</td>\n",
       "      <td>0.0</td>\n",
       "      <td>...</td>\n",
       "      <td>0.0</td>\n",
       "      <td>0.0</td>\n",
       "      <td>0.0</td>\n",
       "      <td>0.0</td>\n",
       "      <td>0.0</td>\n",
       "      <td>0.0</td>\n",
       "      <td>0.0</td>\n",
       "      <td>0.0</td>\n",
       "      <td>0.0</td>\n",
       "      <td>0.0</td>\n",
       "    </tr>\n",
       "    <tr>\n",
       "      <th>4 Blondes</th>\n",
       "      <td>0.0</td>\n",
       "      <td>0.0</td>\n",
       "      <td>0.0</td>\n",
       "      <td>0.0</td>\n",
       "      <td>0.0</td>\n",
       "      <td>0.0</td>\n",
       "      <td>0.0</td>\n",
       "      <td>0.0</td>\n",
       "      <td>0.0</td>\n",
       "      <td>0.0</td>\n",
       "      <td>...</td>\n",
       "      <td>0.0</td>\n",
       "      <td>0.0</td>\n",
       "      <td>0.0</td>\n",
       "      <td>0.0</td>\n",
       "      <td>0.0</td>\n",
       "      <td>0.0</td>\n",
       "      <td>0.0</td>\n",
       "      <td>0.0</td>\n",
       "      <td>0.0</td>\n",
       "      <td>0.0</td>\n",
       "    </tr>\n",
       "    <tr>\n",
       "      <th>A Bend in the Road</th>\n",
       "      <td>0.0</td>\n",
       "      <td>0.0</td>\n",
       "      <td>7.0</td>\n",
       "      <td>0.0</td>\n",
       "      <td>0.0</td>\n",
       "      <td>0.0</td>\n",
       "      <td>0.0</td>\n",
       "      <td>0.0</td>\n",
       "      <td>0.0</td>\n",
       "      <td>0.0</td>\n",
       "      <td>...</td>\n",
       "      <td>0.0</td>\n",
       "      <td>0.0</td>\n",
       "      <td>0.0</td>\n",
       "      <td>0.0</td>\n",
       "      <td>0.0</td>\n",
       "      <td>0.0</td>\n",
       "      <td>0.0</td>\n",
       "      <td>0.0</td>\n",
       "      <td>0.0</td>\n",
       "      <td>0.0</td>\n",
       "    </tr>\n",
       "  </tbody>\n",
       "</table>\n",
       "<p>5 rows × 810 columns</p>\n",
       "</div>"
      ],
      "text/plain": [
       "User-ID              254     2276    2766    2977    3363    4017    4385    \\\n",
       "Book-Title                                                                    \n",
       "1984                    9.0     0.0     0.0     0.0     0.0     0.0     0.0   \n",
       "1st to Die: A Novel     0.0     0.0     0.0     0.0     0.0     0.0     0.0   \n",
       "2nd Chance              0.0    10.0     0.0     0.0     0.0     0.0     0.0   \n",
       "4 Blondes               0.0     0.0     0.0     0.0     0.0     0.0     0.0   \n",
       "A Bend in the Road      0.0     0.0     7.0     0.0     0.0     0.0     0.0   \n",
       "\n",
       "User-ID              6251    6323    6543    ...  271705  273979  274004  \\\n",
       "Book-Title                                   ...                           \n",
       "1984                    0.0     0.0     0.0  ...    10.0     0.0     0.0   \n",
       "1st to Die: A Novel     0.0     0.0     9.0  ...     0.0     0.0     0.0   \n",
       "2nd Chance              0.0     0.0     0.0  ...     0.0     0.0     0.0   \n",
       "4 Blondes               0.0     0.0     0.0  ...     0.0     0.0     0.0   \n",
       "A Bend in the Road      0.0     0.0     0.0  ...     0.0     0.0     0.0   \n",
       "\n",
       "User-ID              274061  274301  274308  275970  277427  277639  278418  \n",
       "Book-Title                                                                   \n",
       "1984                    0.0     0.0     0.0     0.0     0.0     0.0     0.0  \n",
       "1st to Die: A Novel     0.0     0.0     0.0     0.0     0.0     0.0     0.0  \n",
       "2nd Chance              0.0     0.0     0.0     0.0     0.0     0.0     0.0  \n",
       "4 Blondes               0.0     0.0     0.0     0.0     0.0     0.0     0.0  \n",
       "A Bend in the Road      0.0     0.0     0.0     0.0     0.0     0.0     0.0  \n",
       "\n",
       "[5 rows x 810 columns]"
      ]
     },
     "execution_count": 227,
     "metadata": {},
     "output_type": "execute_result"
    }
   ],
   "source": [
    "pt.head()"
   ]
  },
  {
   "cell_type": "code",
   "execution_count": 228,
   "metadata": {},
   "outputs": [
    {
     "data": {
      "text/plain": [
       "(706, 810)"
      ]
     },
     "execution_count": 228,
     "metadata": {},
     "output_type": "execute_result"
    }
   ],
   "source": [
    "pt.shape"
   ]
  },
  {
   "cell_type": "code",
   "execution_count": 229,
   "metadata": {},
   "outputs": [],
   "source": [
    "from sklearn.metrics.pairwise import cosine_similarity"
   ]
  },
  {
   "cell_type": "code",
   "execution_count": 230,
   "metadata": {},
   "outputs": [],
   "source": [
    "similarity_scores = cosine_similarity(pt)"
   ]
  },
  {
   "cell_type": "code",
   "execution_count": 231,
   "metadata": {},
   "outputs": [
    {
     "data": {
      "text/plain": [
       "array([1.        , 0.10255025, 0.01220856, 0.        , 0.05367224,\n",
       "       0.02774901, 0.08216491, 0.13732869, 0.03261686, 0.03667591,\n",
       "       0.02322418, 0.06766487, 0.02083978, 0.09673735, 0.13388865,\n",
       "       0.08303112, 0.11153543, 0.05100411, 0.02517784, 0.11706383,\n",
       "       0.        , 0.14333793, 0.07847534, 0.06150451, 0.08723968,\n",
       "       0.        , 0.07009814, 0.13658681, 0.07600328, 0.12167134,\n",
       "       0.00768046, 0.01473221, 0.        , 0.07965814, 0.04522617,\n",
       "       0.01556271, 0.09495938, 0.0182307 , 0.02610465, 0.07984012,\n",
       "       0.11679969, 0.0569124 , 0.08354155, 0.08471898, 0.08785938,\n",
       "       0.05491435, 0.0548505 , 0.27026514, 0.09779123, 0.06016046,\n",
       "       0.08958835, 0.06748675, 0.        , 0.04468098, 0.01920872,\n",
       "       0.        , 0.05629067, 0.00557964, 0.07877059, 0.05219479,\n",
       "       0.18908177, 0.        , 0.01240656, 0.02984572, 0.04279502,\n",
       "       0.12680125, 0.16566735, 0.        , 0.13357242, 0.06615478,\n",
       "       0.        , 0.        , 0.        , 0.10968075, 0.02806606,\n",
       "       0.04521795, 0.02613277, 0.06876131, 0.01331627, 0.10519138,\n",
       "       0.03349457, 0.01363458, 0.23669374, 0.        , 0.10397941,\n",
       "       0.06167753, 0.14176273, 0.11661083, 0.08331012, 0.00850895,\n",
       "       0.06715433, 0.        , 0.15850821, 0.0328052 , 0.01068915,\n",
       "       0.02579782, 0.02114859, 0.02687779, 0.02175821, 0.        ,\n",
       "       0.01601663, 0.12114266, 0.04768603, 0.05819184, 0.06510722,\n",
       "       0.        , 0.0476705 , 0.05273165, 0.0281001 , 0.06524573,\n",
       "       0.02116345, 0.02097868, 0.07422249, 0.01752778, 0.03734567,\n",
       "       0.        , 0.01579666, 0.11039448, 0.16527277, 0.15514319,\n",
       "       0.06237454, 0.08139489, 0.05655414, 0.07458203, 0.03771888,\n",
       "       0.0593633 , 0.02955369, 0.03355603, 0.04734093, 0.01006643,\n",
       "       0.01671982, 0.07258935, 0.        , 0.        , 0.        ,\n",
       "       0.02428501, 0.03067819, 0.0997498 , 0.        , 0.01690152,\n",
       "       0.02410862, 0.0281084 , 0.        , 0.        , 0.01812877,\n",
       "       0.02880827, 0.        , 0.05995157, 0.02127671, 0.1034119 ,\n",
       "       0.02766748, 0.10684795, 0.09898722, 0.14145186, 0.05007429,\n",
       "       0.09428289, 0.01411249, 0.        , 0.07835976, 0.00882242,\n",
       "       0.04515898, 0.        , 0.01281412, 0.04003334, 0.07477661,\n",
       "       0.01217906, 0.01887393, 0.02667484, 0.01432864, 0.14702847,\n",
       "       0.06087282, 0.02578321, 0.02741876, 0.        , 0.14909595,\n",
       "       0.05606788, 0.        , 0.03199916, 0.03643817, 0.        ,\n",
       "       0.01962921, 0.22222254, 0.01515845, 0.09673268, 0.02190023,\n",
       "       0.02013549, 0.05400331, 0.07262017, 0.01111637, 0.03649872,\n",
       "       0.05994664, 0.        , 0.14691167, 0.02086005, 0.10359635,\n",
       "       0.09794375, 0.06609997, 0.12871083, 0.08992739, 0.01147457,\n",
       "       0.02460165, 0.        , 0.18049207, 0.05141892, 0.0477174 ,\n",
       "       0.10849696, 0.13278139, 0.05915288, 0.05372984, 0.034785  ,\n",
       "       0.        , 0.09203039, 0.06388401, 0.04773328, 0.15570975,\n",
       "       0.08420691, 0.12338217, 0.0878469 , 0.08205945, 0.12177532,\n",
       "       0.02433703, 0.00272862, 0.        , 0.        , 0.03671505,\n",
       "       0.15280984, 0.0370943 , 0.07458136, 0.09746697, 0.05416091,\n",
       "       0.10266993, 0.07574414, 0.06426526, 0.0360174 , 0.01559752,\n",
       "       0.02033559, 0.02463593, 0.        , 0.03349154, 0.02135369,\n",
       "       0.0190337 , 0.06806265, 0.02032116, 0.11784706, 0.07839488,\n",
       "       0.08422558, 0.        , 0.02040796, 0.        , 0.04698246,\n",
       "       0.08294513, 0.13974514, 0.01234525, 0.13510608, 0.07423489,\n",
       "       0.11841889, 0.04930091, 0.01621668, 0.02633023, 0.04815972,\n",
       "       0.01959826, 0.10174253, 0.13257638, 0.        , 0.0551027 ,\n",
       "       0.0186115 , 0.        , 0.04504598, 0.03482459, 0.16503292,\n",
       "       0.08466191, 0.06795353, 0.02987653, 0.        , 0.        ,\n",
       "       0.08781993, 0.07885279, 0.04799058, 0.01467964, 0.02123837,\n",
       "       0.04549923, 0.08673969, 0.00885998, 0.02880637, 0.02022145,\n",
       "       0.02414122, 0.12548312, 0.        , 0.02482518, 0.06520606,\n",
       "       0.        , 0.0606983 , 0.01177824, 0.13974105, 0.01978844,\n",
       "       0.01260824, 0.08608601, 0.04433883, 0.02943085, 0.02242496,\n",
       "       0.06541868, 0.07866868, 0.14281399, 0.11979305, 0.01858409,\n",
       "       0.13445377, 0.04809338, 0.09790644, 0.        , 0.17415731,\n",
       "       0.07437756, 0.        , 0.12389065, 0.01042391, 0.02580849,\n",
       "       0.        , 0.0895139 , 0.04005551, 0.19182231, 0.02267512,\n",
       "       0.01730347, 0.03054044, 0.07008822, 0.10084626, 0.10467615,\n",
       "       0.01683462, 0.12468283, 0.10266459, 0.03549836, 0.02667484,\n",
       "       0.07652765, 0.08474056, 0.01831977, 0.02177482, 0.15293362,\n",
       "       0.        , 0.        , 0.01063251, 0.02153089, 0.02946443,\n",
       "       0.        , 0.02076783, 0.01194825, 0.00953675, 0.2067554 ,\n",
       "       0.01554292, 0.0390266 , 0.06681046, 0.09014973, 0.05914735,\n",
       "       0.06206857, 0.        , 0.02005959, 0.07843566, 0.16337845,\n",
       "       0.07161075, 0.        , 0.14595258, 0.07561631, 0.02939738,\n",
       "       0.04779629, 0.01807238, 0.11362722, 0.09791273, 0.07999693,\n",
       "       0.08912337, 0.10941777, 0.        , 0.02115842, 0.0600393 ,\n",
       "       0.01797154, 0.05755408, 0.02166863, 0.09754449, 0.13107652,\n",
       "       0.        , 0.06829904, 0.09132922, 0.        , 0.02781406,\n",
       "       0.01533368, 0.06113179, 0.01757286, 0.02471294, 0.0180158 ,\n",
       "       0.11789806, 0.06468143, 0.13904191, 0.        , 0.06671644,\n",
       "       0.        , 0.        , 0.05762086, 0.02266096, 0.00844876,\n",
       "       0.02297481, 0.07136276, 0.15305514, 0.06039874, 0.        ,\n",
       "       0.08996912, 0.01545947, 0.10135299, 0.        , 0.01676344,\n",
       "       0.        , 0.0502188 , 0.16041182, 0.        , 0.13439733,\n",
       "       0.12508514, 0.02329035, 0.0198727 , 0.01105674, 0.02548034,\n",
       "       0.00896044, 0.08246122, 0.01902896, 0.07025003, 0.0216367 ,\n",
       "       0.12822982, 0.09998772, 0.08642895, 0.06355197, 0.02883024,\n",
       "       0.04335826, 0.0470659 , 0.05223733, 0.        , 0.08982751,\n",
       "       0.00875634, 0.09923542, 0.10228551, 0.        , 0.12307492,\n",
       "       0.01758929, 0.02028125, 0.1033827 , 0.13028171, 0.08988894,\n",
       "       0.09005001, 0.05332049, 0.08033436, 0.04597795, 0.06139888,\n",
       "       0.02300709, 0.02304904, 0.06523041, 0.01915363, 0.        ,\n",
       "       0.04542766, 0.        , 0.        , 0.05261954, 0.01317088,\n",
       "       0.        , 0.        , 0.0485931 , 0.0734819 , 0.10354481,\n",
       "       0.01718807, 0.09919937, 0.08091989, 0.00358835, 0.04757132,\n",
       "       0.11122765, 0.05143481, 0.0566614 , 0.        , 0.06087719,\n",
       "       0.10800615, 0.        , 0.07554686, 0.        , 0.13644384,\n",
       "       0.04796763, 0.16104067, 0.        , 0.01759864, 0.05438295,\n",
       "       0.        , 0.08100801, 0.13090711, 0.00581844, 0.07150547,\n",
       "       0.05428487, 0.06143184, 0.05161653, 0.1951182 , 0.1149488 ,\n",
       "       0.06513047, 0.06401961, 0.        , 0.        , 0.10853662,\n",
       "       0.11400426, 0.0463925 , 0.01825277, 0.        , 0.01195201,\n",
       "       0.21057744, 0.05809707, 0.04349156, 0.02646256, 0.07276403,\n",
       "       0.05264857, 0.07242165, 0.06790898, 0.01626564, 0.02431809,\n",
       "       0.02093565, 0.13617057, 0.11784149, 0.08588206, 0.09284352,\n",
       "       0.11277297, 0.06868983, 0.08200947, 0.13369059, 0.        ,\n",
       "       0.19972625, 0.02286207, 0.0806288 , 0.        , 0.05756015,\n",
       "       0.06738056, 0.        , 0.19656288, 0.06306426, 0.03499381,\n",
       "       0.06123119, 0.09596456, 0.02180168, 0.02317515, 0.06476149,\n",
       "       0.07052241, 0.08280452, 0.1700872 , 0.07213921, 0.01172201,\n",
       "       0.08541218, 0.17990898, 0.08007284, 0.01739625, 0.16728777,\n",
       "       0.26396194, 0.1840891 , 0.05600273, 0.04133586, 0.06911015,\n",
       "       0.14456847, 0.22626397, 0.19208896, 0.0239334 , 0.20025064,\n",
       "       0.01507653, 0.05144282, 0.1233368 , 0.1420166 , 0.02472079,\n",
       "       0.08563805, 0.02363426, 0.12794024, 0.01083153, 0.07352436,\n",
       "       0.09532519, 0.03421895, 0.07194212, 0.02297079, 0.15344079,\n",
       "       0.08856302, 0.        , 0.        , 0.01878656, 0.09772942,\n",
       "       0.04404359, 0.15211972, 0.0152225 , 0.10307399, 0.05715789,\n",
       "       0.04600056, 0.06303899, 0.06572303, 0.14421331, 0.08272478,\n",
       "       0.        , 0.04203701, 0.02276077, 0.17381829, 0.01909967,\n",
       "       0.16000268, 0.14681486, 0.        , 0.05940546, 0.07725115,\n",
       "       0.07464763, 0.06546696, 0.07021577, 0.18921368, 0.02494136,\n",
       "       0.01705027, 0.05437622, 0.04932819, 0.        , 0.11445399,\n",
       "       0.08001595, 0.12858515, 0.02306658, 0.06129105, 0.02090769,\n",
       "       0.04550867, 0.1026659 , 0.10725982, 0.0260534 , 0.00173709,\n",
       "       0.0987294 , 0.08077482, 0.02159226, 0.01614275, 0.0208464 ,\n",
       "       0.09797466, 0.01906731, 0.18571699, 0.05344577, 0.18925314,\n",
       "       0.05894189, 0.01488161, 0.1202478 , 0.09840359, 0.01048126,\n",
       "       0.10596224, 0.07617195, 0.0805439 , 0.        , 0.23299389,\n",
       "       0.01073642, 0.13573542, 0.04578552, 0.14440017, 0.        ,\n",
       "       0.12522954, 0.0645501 , 0.02817522, 0.14445559, 0.01721045,\n",
       "       0.09508161, 0.0517902 , 0.18410818, 0.08704224, 0.10990764,\n",
       "       0.10850377, 0.03954865, 0.0383631 , 0.02463491, 0.07845405,\n",
       "       0.03455548, 0.03007681, 0.02484076, 0.04223674, 0.14444517,\n",
       "       0.12340234, 0.01510201, 0.0284437 , 0.02132016, 0.07391778,\n",
       "       0.08904276, 0.15893871, 0.06947574, 0.01060787, 0.        ,\n",
       "       0.09993169, 0.05711356, 0.09488374, 0.00948943, 0.13365876,\n",
       "       0.05794064, 0.        , 0.06721284, 0.02066998, 0.        ,\n",
       "       0.01839428, 0.        , 0.12655364, 0.08418288, 0.09095705,\n",
       "       0.00730589, 0.08143881, 0.        , 0.04218803, 0.08392849,\n",
       "       0.07785801, 0.        , 0.07151794, 0.02407593, 0.01635126,\n",
       "       0.03734567, 0.05237227, 0.01140169, 0.00968725, 0.12530648,\n",
       "       0.00909905, 0.05864096, 0.01769644, 0.12110367, 0.07347567,\n",
       "       0.04316046])"
      ]
     },
     "execution_count": 231,
     "metadata": {},
     "output_type": "execute_result"
    }
   ],
   "source": [
    "similarity_scores[0]"
   ]
  },
  {
   "cell_type": "code",
   "execution_count": 232,
   "metadata": {},
   "outputs": [
    {
     "data": {
      "text/plain": [
       "(706, 706)"
      ]
     },
     "execution_count": 232,
     "metadata": {},
     "output_type": "execute_result"
    }
   ],
   "source": [
    "similarity_scores.shape"
   ]
  },
  {
   "cell_type": "code",
   "execution_count": 233,
   "metadata": {},
   "outputs": [],
   "source": [
    "def recommend(book_name):\n",
    "    index = np.where(pt.index==book_name)[0][0]\n",
    "    similar_items = sorted(list(enumerate(similarity_scores[index])),key=lambda x:x[1],reverse=True)[1:5]\n",
    "    recommended_books = []\n",
    "    for i in similar_items:\n",
    "        book_details = books[books['Book-Title'] == pt.index[i[0]]]\n",
    "        recommended_books.append(book_details.iloc[0])\n",
    "    recommended_df = pd.DataFrame(recommended_books)\n",
    "    recommended_df.drop_duplicates('Book-Title',inplace=True)\n",
    "    recommended_df=recommended_df[['Book-Title','Book-Author','Image-URL-M']]\n",
    "    \n",
    "    # recommended_json = recommended_df.to_json(orient='records')\n",
    "    \n",
    "    return recommended_df"
   ]
  },
  {
   "cell_type": "code",
   "execution_count": 234,
   "metadata": {},
   "outputs": [
    {
     "data": {
      "text/html": [
       "<div>\n",
       "<style scoped>\n",
       "    .dataframe tbody tr th:only-of-type {\n",
       "        vertical-align: middle;\n",
       "    }\n",
       "\n",
       "    .dataframe tbody tr th {\n",
       "        vertical-align: top;\n",
       "    }\n",
       "\n",
       "    .dataframe thead th {\n",
       "        text-align: right;\n",
       "    }\n",
       "</style>\n",
       "<table border=\"1\" class=\"dataframe\">\n",
       "  <thead>\n",
       "    <tr style=\"text-align: right;\">\n",
       "      <th></th>\n",
       "      <th>Book-Title</th>\n",
       "      <th>Book-Author</th>\n",
       "      <th>Image-URL-M</th>\n",
       "    </tr>\n",
       "  </thead>\n",
       "  <tbody>\n",
       "    <tr>\n",
       "      <th>5431</th>\n",
       "      <td>Harry Potter and the Goblet of Fire (Book 4)</td>\n",
       "      <td>J. K. Rowling</td>\n",
       "      <td>http://images.amazon.com/images/P/0439139597.0...</td>\n",
       "    </tr>\n",
       "    <tr>\n",
       "      <th>3459</th>\n",
       "      <td>Harry Potter and the Chamber of Secrets (Book 2)</td>\n",
       "      <td>J. K. Rowling</td>\n",
       "      <td>http://images.amazon.com/images/P/0439064872.0...</td>\n",
       "    </tr>\n",
       "    <tr>\n",
       "      <th>5506</th>\n",
       "      <td>Harry Potter and the Order of the Phoenix (Boo...</td>\n",
       "      <td>J. K. Rowling</td>\n",
       "      <td>http://images.amazon.com/images/P/043935806X.0...</td>\n",
       "    </tr>\n",
       "    <tr>\n",
       "      <th>2809</th>\n",
       "      <td>Harry Potter and the Sorcerer's Stone (Book 1)</td>\n",
       "      <td>J. K. Rowling</td>\n",
       "      <td>http://images.amazon.com/images/P/0590353403.0...</td>\n",
       "    </tr>\n",
       "  </tbody>\n",
       "</table>\n",
       "</div>"
      ],
      "text/plain": [
       "                                             Book-Title    Book-Author  \\\n",
       "5431       Harry Potter and the Goblet of Fire (Book 4)  J. K. Rowling   \n",
       "3459   Harry Potter and the Chamber of Secrets (Book 2)  J. K. Rowling   \n",
       "5506  Harry Potter and the Order of the Phoenix (Boo...  J. K. Rowling   \n",
       "2809     Harry Potter and the Sorcerer's Stone (Book 1)  J. K. Rowling   \n",
       "\n",
       "                                            Image-URL-M  \n",
       "5431  http://images.amazon.com/images/P/0439139597.0...  \n",
       "3459  http://images.amazon.com/images/P/0439064872.0...  \n",
       "5506  http://images.amazon.com/images/P/043935806X.0...  \n",
       "2809  http://images.amazon.com/images/P/0590353403.0...  "
      ]
     },
     "execution_count": 234,
     "metadata": {},
     "output_type": "execute_result"
    }
   ],
   "source": [
    "recommend('Harry Potter and the Prisoner of Azkaban (Book 3)')"
   ]
  },
  {
   "cell_type": "code",
   "execution_count": 235,
   "metadata": {},
   "outputs": [
    {
     "data": {
      "text/html": [
       "<div>\n",
       "<style scoped>\n",
       "    .dataframe tbody tr th:only-of-type {\n",
       "        vertical-align: middle;\n",
       "    }\n",
       "\n",
       "    .dataframe tbody tr th {\n",
       "        vertical-align: top;\n",
       "    }\n",
       "\n",
       "    .dataframe thead th {\n",
       "        text-align: right;\n",
       "    }\n",
       "</style>\n",
       "<table border=\"1\" class=\"dataframe\">\n",
       "  <thead>\n",
       "    <tr style=\"text-align: right;\">\n",
       "      <th></th>\n",
       "      <th>Book-Title</th>\n",
       "      <th>Book-Author</th>\n",
       "      <th>Image-URL-M</th>\n",
       "    </tr>\n",
       "  </thead>\n",
       "  <tbody>\n",
       "    <tr>\n",
       "      <th>285</th>\n",
       "      <td>Animal Farm</td>\n",
       "      <td>George Orwell</td>\n",
       "      <td>http://images.amazon.com/images/P/0451526341.0...</td>\n",
       "    </tr>\n",
       "    <tr>\n",
       "      <th>1985</th>\n",
       "      <td>The Handmaid's Tale</td>\n",
       "      <td>Margaret Atwood</td>\n",
       "      <td>http://images.amazon.com/images/P/0449212602.0...</td>\n",
       "    </tr>\n",
       "    <tr>\n",
       "      <th>4114</th>\n",
       "      <td>Brave New World</td>\n",
       "      <td>Aldous Huxley</td>\n",
       "      <td>http://images.amazon.com/images/P/0060809833.0...</td>\n",
       "    </tr>\n",
       "    <tr>\n",
       "      <th>608</th>\n",
       "      <td>The Vampire Lestat (Vampire Chronicles, Book II)</td>\n",
       "      <td>ANNE RICE</td>\n",
       "      <td>http://images.amazon.com/images/P/0345313860.0...</td>\n",
       "    </tr>\n",
       "  </tbody>\n",
       "</table>\n",
       "</div>"
      ],
      "text/plain": [
       "                                            Book-Title      Book-Author  \\\n",
       "285                                        Animal Farm    George Orwell   \n",
       "1985                               The Handmaid's Tale  Margaret Atwood   \n",
       "4114                                   Brave New World    Aldous Huxley   \n",
       "608   The Vampire Lestat (Vampire Chronicles, Book II)        ANNE RICE   \n",
       "\n",
       "                                            Image-URL-M  \n",
       "285   http://images.amazon.com/images/P/0451526341.0...  \n",
       "1985  http://images.amazon.com/images/P/0449212602.0...  \n",
       "4114  http://images.amazon.com/images/P/0060809833.0...  \n",
       "608   http://images.amazon.com/images/P/0345313860.0...  "
      ]
     },
     "execution_count": 235,
     "metadata": {},
     "output_type": "execute_result"
    }
   ],
   "source": [
    "recommend('1984')"
   ]
  },
  {
   "cell_type": "code",
   "execution_count": 238,
   "metadata": {},
   "outputs": [
    {
     "data": {
      "text/plain": [
       "Index(['Book-Title', 'Book-Author', 'Image-URL-M'], dtype='object')"
      ]
     },
     "execution_count": 238,
     "metadata": {},
     "output_type": "execute_result"
    }
   ],
   "source": [
    "popular_df.columns"
   ]
  },
  {
   "cell_type": "code",
   "execution_count": 236,
   "metadata": {},
   "outputs": [],
   "source": [
    "import pickle"
   ]
  },
  {
   "cell_type": "code",
   "execution_count": 237,
   "metadata": {},
   "outputs": [],
   "source": [
    "pickle.dump(pt,open('pt.pkl','wb'))\n",
    "pickle.dump(books,open('books.pkl','wb'))\n",
    "pickle.dump(similarity_scores,open('similarity_scores.pkl','wb'))\n",
    "pickle.dump(popular_df,open('popular_df.pkl','wb'))"
   ]
  }
 ],
 "metadata": {
  "kernelspec": {
   "display_name": "Python 3 (ipykernel)",
   "language": "python",
   "name": "python3"
  },
  "language_info": {
   "codemirror_mode": {
    "name": "ipython",
    "version": 3
   },
   "file_extension": ".py",
   "mimetype": "text/x-python",
   "name": "python",
   "nbconvert_exporter": "python",
   "pygments_lexer": "ipython3",
   "version": "3.11.4"
  }
 },
 "nbformat": 4,
 "nbformat_minor": 2
}
